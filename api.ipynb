{
 "cells": [
  {
   "cell_type": "code",
   "execution_count": null,
   "metadata": {},
   "outputs": [],
   "source": [
    "from pytrends.request import TrendReq # api\n",
    "from matplotlib import pyplot\n",
    "import time\n",
    "\n",
    "startTime = time.time()\n",
    "pytrend = TrendReq(hl='en-US', tz=360)\n",
    "\n",
    "keywords = ['Covid','Corona']\n",
    "pytrend.build_payload(\n",
    "     kw_list=keywords,\n",
    "     cat=0,\n",
    "     timeframe='2020-02-01 2021-09-01',\n",
    "     geo='US',\n",
    "     gprop='')\n",
    "     \n",
    "data = pytrend.interest_over_time()\n",
    "data.plot(title=\"Google Search Trends\")\n",
    "pyplot.show()"
   ]
  },
  {
   "cell_type": "code",
   "execution_count": null,
   "metadata": {},
   "outputs": [],
   "source": [
    "#install.packages(\"pageviews\")\n",
    "library(tidyverse)\n",
    "library(pageviews)\n",
    "\n",
    "CovidViews <-\n",
    "  article_pageviews(\n",
    "    project = \"en.wikipedia\",\n",
    "    article = \"Covid-19\",\n",
    "    user_type = \"user\",\n",
    "    start = as.Date(\"2020-1-1\"),\n",
    "    end = as.Date(\"2021-9-18\")\n",
    "  )\n",
    "\n",
    "CovidViews %>%\n",
    "  ggplot(aes(x=date,y=views)) + geom_line() +\n",
    "  labs(title = 'Wikipedia Traffic for \"Covid-19\"')"
   ]
  },
  {
   "cell_type": "code",
   "execution_count": null,
   "metadata": {},
   "outputs": [],
   "source": [
    "topArticles <- \n",
    "  top_articles(\n",
    "    project = \"en.wikipedia\",\n",
    "    user_type = \"user\",\n",
    "    start = as.Date(\"2021-9-1\"),\n",
    "    end = as.Date(\"2021-9-18\")\n",
    "  )"
   ]
  },
  {
   "cell_type": "code",
   "execution_count": null,
   "metadata": {},
   "outputs": [],
   "source": [
    "#install.packages(\"magick\") \n",
    "#install.packages(\"googleAuthR\") \n",
    "#devtools::install_github(\"cloudyr/RoogleVision\")\n",
    "library(magick)               # library for image manipulation\n",
    "library(googleAuthR)          # library for authorizing Google cloud access\n",
    "library(RoogleVision)         # library for Google Vision API calls\n",
    "library(tidyverse)"
   ]
  },
  {
   "cell_type": "code",
   "execution_count": null,
   "metadata": {},
   "outputs": [],
   "source": [
    "options(\"googleAuthR.client_id\" = \"Your Client ID\")\n",
    "options(\"googleAuthR.client_secret\" = \"Your Client Secret\")\n",
    "\n",
    "options(\"googleAuthR.scopes.selected\" = c(\"https://www.googleapis.com/auth/cloud-platform\"))\n",
    "googleAuthR::gar_auth()"
   ]
  },
  {
   "cell_type": "code",
   "execution_count": 1,
   "metadata": {},
   "outputs": [
    {
     "ename": "KeyError",
     "evalue": "'BusPositions'",
     "output_type": "error",
     "traceback": [
      "\u001b[1;31m---------------------------------------------------------------------------\u001b[0m",
      "\u001b[1;31mKeyError\u001b[0m                                  Traceback (most recent call last)",
      "Cell \u001b[1;32mIn[1], line 13\u001b[0m\n\u001b[0;32m     10\u001b[0m response \u001b[38;5;241m=\u001b[39m requests\u001b[38;5;241m.\u001b[39mget(theURL)\n\u001b[0;32m     11\u001b[0m j \u001b[38;5;241m=\u001b[39m response\u001b[38;5;241m.\u001b[39mjson()\n\u001b[1;32m---> 13\u001b[0m busPos \u001b[38;5;241m=\u001b[39m \u001b[43mj\u001b[49m\u001b[43m[\u001b[49m\u001b[38;5;124;43m'\u001b[39;49m\u001b[38;5;124;43mBusPositions\u001b[39;49m\u001b[38;5;124;43m'\u001b[39;49m\u001b[43m]\u001b[49m\n\u001b[0;32m     14\u001b[0m df \u001b[38;5;241m=\u001b[39m pd\u001b[38;5;241m.\u001b[39mjson_normalize(busPos)\n\u001b[0;32m     16\u001b[0m \u001b[38;5;28mprint\u001b[39m(df\u001b[38;5;241m.\u001b[39mhead())\n",
      "\u001b[1;31mKeyError\u001b[0m: 'BusPositions'"
     ]
    }
   ],
   "source": [
    "import pandas as pd\n",
    "import requests\n",
    "import json\n",
    "\n",
    "myApiKey = \"your api key\"\n",
    "TheRoute =  \"S2\"\n",
    "\n",
    "theURL = \"https://api.wmata.com/Bus.svc/json/jBusPositions?RouteID=\"+TheRoute+\"&api_key=\"+myApiKey\n",
    "\n",
    "response = requests.get(theURL)\n",
    "j = response.json()\n",
    "\n",
    "busPos = j['BusPositions']\n",
    "df = pd.json_normalize(busPos)\n",
    "\n",
    "print(df.head())"
   ]
  }
 ],
 "metadata": {
  "kernelspec": {
   "display_name": "Python 3",
   "language": "python",
   "name": "python3"
  },
  "language_info": {
   "codemirror_mode": {
    "name": "ipython",
    "version": 3
   },
   "file_extension": ".py",
   "mimetype": "text/x-python",
   "name": "python",
   "nbconvert_exporter": "python",
   "pygments_lexer": "ipython3",
   "version": "3.11.0"
  }
 },
 "nbformat": 4,
 "nbformat_minor": 2
}
